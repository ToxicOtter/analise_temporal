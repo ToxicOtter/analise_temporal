{
 "cells": [
  {
   "cell_type": "code",
   "execution_count": 25,
   "id": "c895c9c9",
   "metadata": {},
   "outputs": [],
   "source": [
    "import pandas as pd\n",
    "import holidays"
   ]
  },
  {
   "cell_type": "code",
   "execution_count": 15,
   "id": "0737f1a6",
   "metadata": {},
   "outputs": [],
   "source": [
    "vendas_df = pd.read_csv('vendas_diarias_202401_202509.csv')"
   ]
  },
  {
   "cell_type": "code",
   "execution_count": 16,
   "id": "d08d0ac6",
   "metadata": {},
   "outputs": [
    {
     "data": {
      "text/html": [
       "<div>\n",
       "<style scoped>\n",
       "    .dataframe tbody tr th:only-of-type {\n",
       "        vertical-align: middle;\n",
       "    }\n",
       "\n",
       "    .dataframe tbody tr th {\n",
       "        vertical-align: top;\n",
       "    }\n",
       "\n",
       "    .dataframe thead th {\n",
       "        text-align: right;\n",
       "    }\n",
       "</style>\n",
       "<table border=\"1\" class=\"dataframe\">\n",
       "  <thead>\n",
       "    <tr style=\"text-align: right;\">\n",
       "      <th></th>\n",
       "      <th>data</th>\n",
       "      <th>loja</th>\n",
       "      <th>quantidade de vendas</th>\n",
       "    </tr>\n",
       "  </thead>\n",
       "  <tbody>\n",
       "    <tr>\n",
       "      <th>0</th>\n",
       "      <td>2024-01-01</td>\n",
       "      <td>1</td>\n",
       "      <td>80</td>\n",
       "    </tr>\n",
       "    <tr>\n",
       "      <th>1</th>\n",
       "      <td>2024-01-01</td>\n",
       "      <td>2</td>\n",
       "      <td>84</td>\n",
       "    </tr>\n",
       "    <tr>\n",
       "      <th>2</th>\n",
       "      <td>2024-01-01</td>\n",
       "      <td>3</td>\n",
       "      <td>100</td>\n",
       "    </tr>\n",
       "    <tr>\n",
       "      <th>3</th>\n",
       "      <td>2024-01-01</td>\n",
       "      <td>4</td>\n",
       "      <td>118</td>\n",
       "    </tr>\n",
       "    <tr>\n",
       "      <th>4</th>\n",
       "      <td>2024-01-01</td>\n",
       "      <td>5</td>\n",
       "      <td>108</td>\n",
       "    </tr>\n",
       "  </tbody>\n",
       "</table>\n",
       "</div>"
      ],
      "text/plain": [
       "         data  loja  quantidade de vendas\n",
       "0  2024-01-01     1                    80\n",
       "1  2024-01-01     2                    84\n",
       "2  2024-01-01     3                   100\n",
       "3  2024-01-01     4                   118\n",
       "4  2024-01-01     5                   108"
      ]
     },
     "execution_count": 16,
     "metadata": {},
     "output_type": "execute_result"
    }
   ],
   "source": [
    "vendas_df.head()"
   ]
  },
  {
   "cell_type": "code",
   "execution_count": 17,
   "id": "fb81d980",
   "metadata": {},
   "outputs": [
    {
     "name": "stdout",
     "output_type": "stream",
     "text": [
      "<class 'pandas.core.frame.DataFrame'>\n",
      "RangeIndex: 3195 entries, 0 to 3194\n",
      "Data columns (total 3 columns):\n",
      " #   Column                Non-Null Count  Dtype \n",
      "---  ------                --------------  ----- \n",
      " 0   data                  3195 non-null   object\n",
      " 1   loja                  3195 non-null   int64 \n",
      " 2   quantidade de vendas  3195 non-null   int64 \n",
      "dtypes: int64(2), object(1)\n",
      "memory usage: 75.0+ KB\n"
     ]
    }
   ],
   "source": [
    "vendas_df.info()"
   ]
  },
  {
   "cell_type": "code",
   "execution_count": 18,
   "id": "c2b46106",
   "metadata": {},
   "outputs": [
    {
     "data": {
      "text/plain": [
       "(3195, 3)"
      ]
     },
     "execution_count": 18,
     "metadata": {},
     "output_type": "execute_result"
    }
   ],
   "source": [
    "vendas_df.shape"
   ]
  },
  {
   "cell_type": "code",
   "execution_count": 21,
   "id": "66b6b72d",
   "metadata": {},
   "outputs": [],
   "source": [
    "vendas_df['anomesdia'] = pd.to_datetime(vendas_df['data']).dt.strftime(\"%Y%m%d\")\n",
    "vendas_df['data'] = pd.to_datetime(vendas_df['data'])"
   ]
  },
  {
   "cell_type": "code",
   "execution_count": 22,
   "id": "77442155",
   "metadata": {},
   "outputs": [],
   "source": [
    "is_weekday = vendas_df['data'].dt.weekday < 5\n",
    "\n",
    "# numeração do dia útil dentro de cada mês (sem feriados)\n",
    "vendas_df['num_dia_util_sem_feriado'] = (\n",
    "    is_weekday.astype(int)\n",
    "    .groupby(vendas_df['data'].dt.to_period('M')) # agrupa por mês/ano\n",
    "    .cumsum() # acumula só nos dias úteis\n",
    "    .where(is_weekday) # deixa NaN em sab/dom\n",
    ")"
   ]
  },
  {
   "cell_type": "code",
   "execution_count": 29,
   "id": "f9f0d9d7",
   "metadata": {},
   "outputs": [],
   "source": [
    "# pega os feriados do Brasil\n",
    "anos = vendas_df['data'].dt.year.unique().tolist()\n",
    "feriados_br = holidays.Brazil(years=anos)\n",
    "feriado_set = set(feriados_br.keys())\n",
    "\n",
    "is_holiday = vendas_df['data'].dt.date.isin(feriado_set)\n",
    "is_business_day = is_weekday & ~is_holiday\n",
    "\n",
    "vendas_df['num_dia_util_com_feriado'] = (\n",
    "    is_business_day.astype(int)\n",
    "    .groupby(vendas_df['data'].dt.to_period('M'))\n",
    "    .cumsum()\n",
    "    .where(is_business_day) # NaN para feriados\n",
    ")"
   ]
  },
  {
   "cell_type": "code",
   "execution_count": 30,
   "id": "9ff260c0",
   "metadata": {},
   "outputs": [
    {
     "data": {
      "text/html": [
       "<div>\n",
       "<style scoped>\n",
       "    .dataframe tbody tr th:only-of-type {\n",
       "        vertical-align: middle;\n",
       "    }\n",
       "\n",
       "    .dataframe tbody tr th {\n",
       "        vertical-align: top;\n",
       "    }\n",
       "\n",
       "    .dataframe thead th {\n",
       "        text-align: right;\n",
       "    }\n",
       "</style>\n",
       "<table border=\"1\" class=\"dataframe\">\n",
       "  <thead>\n",
       "    <tr style=\"text-align: right;\">\n",
       "      <th></th>\n",
       "      <th>data</th>\n",
       "      <th>loja</th>\n",
       "      <th>quantidade de vendas</th>\n",
       "      <th>anomesdia</th>\n",
       "      <th>num_dia_util_sem_feriado</th>\n",
       "      <th>num_dia_util_com_feriado</th>\n",
       "    </tr>\n",
       "  </thead>\n",
       "  <tbody>\n",
       "    <tr>\n",
       "      <th>0</th>\n",
       "      <td>2024-01-01</td>\n",
       "      <td>1</td>\n",
       "      <td>80</td>\n",
       "      <td>20240101</td>\n",
       "      <td>1.0</td>\n",
       "      <td>NaN</td>\n",
       "    </tr>\n",
       "    <tr>\n",
       "      <th>1</th>\n",
       "      <td>2024-01-01</td>\n",
       "      <td>2</td>\n",
       "      <td>84</td>\n",
       "      <td>20240101</td>\n",
       "      <td>2.0</td>\n",
       "      <td>NaN</td>\n",
       "    </tr>\n",
       "    <tr>\n",
       "      <th>2</th>\n",
       "      <td>2024-01-01</td>\n",
       "      <td>3</td>\n",
       "      <td>100</td>\n",
       "      <td>20240101</td>\n",
       "      <td>3.0</td>\n",
       "      <td>NaN</td>\n",
       "    </tr>\n",
       "    <tr>\n",
       "      <th>3</th>\n",
       "      <td>2024-01-01</td>\n",
       "      <td>4</td>\n",
       "      <td>118</td>\n",
       "      <td>20240101</td>\n",
       "      <td>4.0</td>\n",
       "      <td>NaN</td>\n",
       "    </tr>\n",
       "    <tr>\n",
       "      <th>4</th>\n",
       "      <td>2024-01-01</td>\n",
       "      <td>5</td>\n",
       "      <td>108</td>\n",
       "      <td>20240101</td>\n",
       "      <td>5.0</td>\n",
       "      <td>NaN</td>\n",
       "    </tr>\n",
       "  </tbody>\n",
       "</table>\n",
       "</div>"
      ],
      "text/plain": [
       "        data  loja  quantidade de vendas anomesdia  num_dia_util_sem_feriado  \\\n",
       "0 2024-01-01     1                    80  20240101                       1.0   \n",
       "1 2024-01-01     2                    84  20240101                       2.0   \n",
       "2 2024-01-01     3                   100  20240101                       3.0   \n",
       "3 2024-01-01     4                   118  20240101                       4.0   \n",
       "4 2024-01-01     5                   108  20240101                       5.0   \n",
       "\n",
       "   num_dia_util_com_feriado  \n",
       "0                       NaN  \n",
       "1                       NaN  \n",
       "2                       NaN  \n",
       "3                       NaN  \n",
       "4                       NaN  "
      ]
     },
     "execution_count": 30,
     "metadata": {},
     "output_type": "execute_result"
    }
   ],
   "source": [
    "vendas_df.head()"
   ]
  }
 ],
 "metadata": {
  "kernelspec": {
   "display_name": "venv",
   "language": "python",
   "name": "python3"
  },
  "language_info": {
   "codemirror_mode": {
    "name": "ipython",
    "version": 3
   },
   "file_extension": ".py",
   "mimetype": "text/x-python",
   "name": "python",
   "nbconvert_exporter": "python",
   "pygments_lexer": "ipython3",
   "version": "3.13.6"
  }
 },
 "nbformat": 4,
 "nbformat_minor": 5
}
